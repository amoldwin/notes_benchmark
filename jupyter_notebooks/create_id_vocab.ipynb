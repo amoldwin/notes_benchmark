{
 "cells": [
  {
   "cell_type": "code",
   "execution_count": 1,
   "metadata": {},
   "outputs": [],
   "source": [
    "import pandas as pd\n",
    "import numpy as np\n",
    "import os"
   ]
  },
  {
   "cell_type": "code",
   "execution_count": 2,
   "metadata": {},
   "outputs": [],
   "source": [
    "csvpath = '../../LHC_mimic/mimic3_1.4/derived/notes.cuis.csv'\n",
    "# csvpath = '/Z/'"
   ]
  },
  {
   "cell_type": "code",
   "execution_count": 3,
   "metadata": {},
   "outputs": [],
   "source": [
    "df = pd.read_csv(csvpath, names = ['SUBJECT_ID', 'HADM_ID', 'CHARTDATE', 'CHARTTIME', 'CATEGORY', 'DESCRIPTION', 'OBSERVATIONS'])"
   ]
  },
  {
   "cell_type": "code",
   "execution_count": 4,
   "metadata": {},
   "outputs": [],
   "source": [
    "df['OBSERVATIONS'] = [obs.split(' ') for obs in df['OBSERVATIONS'] ]"
   ]
  },
  {
   "cell_type": "code",
   "execution_count": 5,
   "metadata": {},
   "outputs": [
    {
     "data": {
      "text/html": [
       "<div>\n",
       "<style scoped>\n",
       "    .dataframe tbody tr th:only-of-type {\n",
       "        vertical-align: middle;\n",
       "    }\n",
       "\n",
       "    .dataframe tbody tr th {\n",
       "        vertical-align: top;\n",
       "    }\n",
       "\n",
       "    .dataframe thead th {\n",
       "        text-align: right;\n",
       "    }\n",
       "</style>\n",
       "<table border=\"1\" class=\"dataframe\">\n",
       "  <thead>\n",
       "    <tr style=\"text-align: right;\">\n",
       "      <th></th>\n",
       "      <th>SUBJECT_ID</th>\n",
       "      <th>HADM_ID</th>\n",
       "      <th>CHARTDATE</th>\n",
       "      <th>CHARTTIME</th>\n",
       "      <th>CATEGORY</th>\n",
       "      <th>DESCRIPTION</th>\n",
       "      <th>OBSERVATIONS</th>\n",
       "    </tr>\n",
       "  </thead>\n",
       "  <tbody>\n",
       "    <tr>\n",
       "      <th>0</th>\n",
       "      <td>2543</td>\n",
       "      <td>106163.0</td>\n",
       "      <td>2114-09-29</td>\n",
       "      <td>2114-09-29T06:14</td>\n",
       "      <td>Nursing/other</td>\n",
       "      <td>Report</td>\n",
       "      <td>[C0042449, C0032740, C2697811, C0700287, C0392...</td>\n",
       "    </tr>\n",
       "    <tr>\n",
       "      <th>1</th>\n",
       "      <td>26127</td>\n",
       "      <td>161400.0</td>\n",
       "      <td>2147-11-10</td>\n",
       "      <td>2147-11-10T17:28</td>\n",
       "      <td>Nursing/other</td>\n",
       "      <td>Report</td>\n",
       "      <td>[C0700287, C0018808, C0521346, C3539666, C4049...</td>\n",
       "    </tr>\n",
       "    <tr>\n",
       "      <th>2</th>\n",
       "      <td>15794</td>\n",
       "      <td>111464.0</td>\n",
       "      <td>2199-11-30</td>\n",
       "      <td>2199-11-30T10:48</td>\n",
       "      <td>Nursing/other</td>\n",
       "      <td>Report</td>\n",
       "      <td>[C0000726, C1642390, C2697811, C0332149, C0036...</td>\n",
       "    </tr>\n",
       "    <tr>\n",
       "      <th>3</th>\n",
       "      <td>70963</td>\n",
       "      <td>110511.0</td>\n",
       "      <td>2107-03-03</td>\n",
       "      <td>2107-03-03T03:58</td>\n",
       "      <td>Radiology</td>\n",
       "      <td>CHEST (PORTABLE AP)</td>\n",
       "      <td>[C0336630, C0086582, C3812382, C0175722, C4049...</td>\n",
       "    </tr>\n",
       "    <tr>\n",
       "      <th>4</th>\n",
       "      <td>91460</td>\n",
       "      <td>122523.0</td>\n",
       "      <td>2149-02-27</td>\n",
       "      <td>2149-02-27T09:13</td>\n",
       "      <td>Radiology</td>\n",
       "      <td>CHEST (PORTABLE AP)</td>\n",
       "      <td>[C0018188, C1963215, C0032326, C0700287, C1962...</td>\n",
       "    </tr>\n",
       "    <tr>\n",
       "      <th>...</th>\n",
       "      <td>...</td>\n",
       "      <td>...</td>\n",
       "      <td>...</td>\n",
       "      <td>...</td>\n",
       "      <td>...</td>\n",
       "      <td>...</td>\n",
       "      <td>...</td>\n",
       "    </tr>\n",
       "    <tr>\n",
       "      <th>2077198</th>\n",
       "      <td>80658</td>\n",
       "      <td>117314.0</td>\n",
       "      <td>2111-04-18</td>\n",
       "      <td>2111-04-17T22:21</td>\n",
       "      <td>Nursing</td>\n",
       "      <td>Nursing Progress Note</td>\n",
       "      <td>[C0021925, C2700258, C0034069, C1800706, C0019...</td>\n",
       "    </tr>\n",
       "    <tr>\n",
       "      <th>2077199</th>\n",
       "      <td>27597</td>\n",
       "      <td>117860.0</td>\n",
       "      <td>2201-03-17</td>\n",
       "      <td>2201-03-17T05:57</td>\n",
       "      <td>Nursing</td>\n",
       "      <td>Nursing Progress Note</td>\n",
       "      <td>[C0235195, C0344106, C0430404, C3843225, C0280...</td>\n",
       "    </tr>\n",
       "    <tr>\n",
       "      <th>2077200</th>\n",
       "      <td>28194</td>\n",
       "      <td>115597.0</td>\n",
       "      <td>2115-05-13</td>\n",
       "      <td>2115-05-13T04:00</td>\n",
       "      <td>Nursing/other</td>\n",
       "      <td>Report</td>\n",
       "      <td>[C1883717, C0151636, C0215825, C0042313, C1184...</td>\n",
       "    </tr>\n",
       "    <tr>\n",
       "      <th>2077201</th>\n",
       "      <td>32155</td>\n",
       "      <td>NaN</td>\n",
       "      <td>2113-01-02</td>\n",
       "      <td>2113-01-02T10:41</td>\n",
       "      <td>Radiology</td>\n",
       "      <td>CT SINUS/MANDIBLE/MAXILLOFACIAL W/O CONTRAST</td>\n",
       "      <td>[C0024957, C0030471, C1305231, C0016658, C2745...</td>\n",
       "    </tr>\n",
       "    <tr>\n",
       "      <th>2077202</th>\n",
       "      <td>5596</td>\n",
       "      <td>NaN</td>\n",
       "      <td>2161-11-03</td>\n",
       "      <td>2161-11-03T14:48</td>\n",
       "      <td>Radiology</td>\n",
       "      <td>LIVER OR GALLBLADDER US (SINGLE ORGAN)</td>\n",
       "      <td>[C0700287, C0554756, C0016976, C0807679, C0043...</td>\n",
       "    </tr>\n",
       "  </tbody>\n",
       "</table>\n",
       "<p>2077203 rows × 7 columns</p>\n",
       "</div>"
      ],
      "text/plain": [
       "         SUBJECT_ID   HADM_ID   CHARTDATE         CHARTTIME       CATEGORY  \\\n",
       "0              2543  106163.0  2114-09-29  2114-09-29T06:14  Nursing/other   \n",
       "1             26127  161400.0  2147-11-10  2147-11-10T17:28  Nursing/other   \n",
       "2             15794  111464.0  2199-11-30  2199-11-30T10:48  Nursing/other   \n",
       "3             70963  110511.0  2107-03-03  2107-03-03T03:58      Radiology   \n",
       "4             91460  122523.0  2149-02-27  2149-02-27T09:13      Radiology   \n",
       "...             ...       ...         ...               ...            ...   \n",
       "2077198       80658  117314.0  2111-04-18  2111-04-17T22:21        Nursing   \n",
       "2077199       27597  117860.0  2201-03-17  2201-03-17T05:57        Nursing   \n",
       "2077200       28194  115597.0  2115-05-13  2115-05-13T04:00  Nursing/other   \n",
       "2077201       32155       NaN  2113-01-02  2113-01-02T10:41      Radiology   \n",
       "2077202        5596       NaN  2161-11-03  2161-11-03T14:48      Radiology   \n",
       "\n",
       "                                          DESCRIPTION  \\\n",
       "0                                              Report   \n",
       "1                                              Report   \n",
       "2                                              Report   \n",
       "3                                 CHEST (PORTABLE AP)   \n",
       "4                                 CHEST (PORTABLE AP)   \n",
       "...                                               ...   \n",
       "2077198                         Nursing Progress Note   \n",
       "2077199                         Nursing Progress Note   \n",
       "2077200                                        Report   \n",
       "2077201  CT SINUS/MANDIBLE/MAXILLOFACIAL W/O CONTRAST   \n",
       "2077202        LIVER OR GALLBLADDER US (SINGLE ORGAN)   \n",
       "\n",
       "                                              OBSERVATIONS  \n",
       "0        [C0042449, C0032740, C2697811, C0700287, C0392...  \n",
       "1        [C0700287, C0018808, C0521346, C3539666, C4049...  \n",
       "2        [C0000726, C1642390, C2697811, C0332149, C0036...  \n",
       "3        [C0336630, C0086582, C3812382, C0175722, C4049...  \n",
       "4        [C0018188, C1963215, C0032326, C0700287, C1962...  \n",
       "...                                                    ...  \n",
       "2077198  [C0021925, C2700258, C0034069, C1800706, C0019...  \n",
       "2077199  [C0235195, C0344106, C0430404, C3843225, C0280...  \n",
       "2077200  [C1883717, C0151636, C0215825, C0042313, C1184...  \n",
       "2077201  [C0024957, C0030471, C1305231, C0016658, C2745...  \n",
       "2077202  [C0700287, C0554756, C0016976, C0807679, C0043...  \n",
       "\n",
       "[2077203 rows x 7 columns]"
      ]
     },
     "execution_count": 5,
     "metadata": {},
     "output_type": "execute_result"
    }
   ],
   "source": [
    "df"
   ]
  },
  {
   "cell_type": "code",
   "execution_count": 6,
   "metadata": {},
   "outputs": [],
   "source": [
    "def add_freqs(lst, freqdict):\n",
    "    for concept in lst:\n",
    "        if concept in freqdict:\n",
    "            freqdict[concept]+=1\n",
    "        else:\n",
    "            freqdict[concept]=1"
   ]
  },
  {
   "cell_type": "code",
   "execution_count": 7,
   "metadata": {},
   "outputs": [
    {
     "data": {
      "text/plain": [
       "0          None\n",
       "1          None\n",
       "2          None\n",
       "3          None\n",
       "4          None\n",
       "           ... \n",
       "2077198    None\n",
       "2077199    None\n",
       "2077200    None\n",
       "2077201    None\n",
       "2077202    None\n",
       "Name: OBSERVATIONS, Length: 2077203, dtype: object"
      ]
     },
     "execution_count": 7,
     "metadata": {},
     "output_type": "execute_result"
    }
   ],
   "source": [
    "vocab_freqs = {}\n",
    "df['OBSERVATIONS'].apply(lambda x: add_freqs(x, vocab_freqs))"
   ]
  },
  {
   "cell_type": "code",
   "execution_count": 8,
   "metadata": {},
   "outputs": [],
   "source": [
    "vocab = sorted(((value, key) for (key,value) in vocab_freqs.items()), reverse=True)\n"
   ]
  },
  {
   "cell_type": "code",
   "execution_count": 9,
   "metadata": {},
   "outputs": [],
   "source": [
    "sorted_ids = {tup[1]:i+1 for i,tup in enumerate(vocab)}"
   ]
  },
  {
   "cell_type": "code",
   "execution_count": 10,
   "metadata": {},
   "outputs": [
    {
     "data": {
      "text/plain": [
       "1"
      ]
     },
     "execution_count": 10,
     "metadata": {},
     "output_type": "execute_result"
    }
   ],
   "source": [
    "sorted_ids['C0700287']"
   ]
  },
  {
   "cell_type": "code",
   "execution_count": 11,
   "metadata": {},
   "outputs": [],
   "source": [
    "import json\n",
    "with open('cui_sorted_id.json','w') as jsonfile:\n",
    "    json.dump(sorted_ids, jsonfile)"
   ]
  },
  {
   "cell_type": "code",
   "execution_count": 18,
   "metadata": {},
   "outputs": [
    {
     "data": {
      "text/plain": [
       "51893"
      ]
     },
     "execution_count": 18,
     "metadata": {},
     "output_type": "execute_result"
    }
   ],
   "source": [
    "len(list(vocab_freqs.keys()))"
   ]
  },
  {
   "cell_type": "code",
   "execution_count": 22,
   "metadata": {},
   "outputs": [],
   "source": [
    "id_dict = {k:v for v,k in enumerate(list(vocab_freqs.keys())) }"
   ]
  },
  {
   "cell_type": "code",
   "execution_count": 24,
   "metadata": {},
   "outputs": [],
   "source": [
    "import json\n",
    "with open('cui_vocab_id.json','w') as jsonfile:\n",
    "    json.dump(id_dict, jsonfile)"
   ]
  },
  {
   "cell_type": "code",
   "execution_count": 2,
   "metadata": {},
   "outputs": [],
   "source": [
    "##CREATE SPARSE TENSOR USING CUI VOCAB IDS##\n",
    "import json\n",
    "import pandas as pd\n",
    "# import tensorflow as tf"
   ]
  },
  {
   "cell_type": "code",
   "execution_count": 3,
   "metadata": {},
   "outputs": [],
   "source": [
    "import os"
   ]
  },
  {
   "cell_type": "code",
   "execution_count": 14,
   "metadata": {},
   "outputs": [],
   "source": [
    "vocab_path = 'cui_sorted_id.json'\n",
    "with open(vocab_path, 'r') as vocfile:\n",
    "    vocab = json.load(vocfile)"
   ]
  },
  {
   "cell_type": "code",
   "execution_count": 15,
   "metadata": {},
   "outputs": [
    {
     "data": {
      "text/plain": [
       "'C2697811'"
      ]
     },
     "execution_count": 15,
     "metadata": {},
     "output_type": "execute_result"
    }
   ],
   "source": [
    "list(vocab.keys())[1]"
   ]
  },
  {
   "cell_type": "code",
   "execution_count": 5,
   "metadata": {},
   "outputs": [],
   "source": [
    "keylist = list(vocab.keys())\n",
    "dense_cols = len(keylist)"
   ]
  },
  {
   "cell_type": "code",
   "execution_count": 6,
   "metadata": {},
   "outputs": [],
   "source": [
    "task = 'in-hospital-mortality'\n",
    "train_path = './data/just_cui_notes/validated/'+task+'/train/'\n",
    "embed_path = ''"
   ]
  },
  {
   "cell_type": "code",
   "execution_count": 7,
   "metadata": {},
   "outputs": [],
   "source": [
    "for filename in os.listdir(train_path)[0:2]:\n",
    "    if filename == 'listfile.csv':\n",
    "        continue\n",
    "    filepath = train_path + filename\n",
    "    df = pd.read_csv(filepath)[['Hours', 'TEXT']]\n",
    "#     df['TEXT'] =  [list(set(obs.split(' '))) for obs in df.TEXT]"
   ]
  },
  {
   "cell_type": "code",
   "execution_count": 8,
   "metadata": {},
   "outputs": [],
   "source": [
    "from sklearn.feature_extraction.text import CountVectorizer"
   ]
  },
  {
   "cell_type": "code",
   "execution_count": 9,
   "metadata": {},
   "outputs": [],
   "source": [
    "cv = CountVectorizer(vocabulary=[word.lower() for word in keylist], binary=True)"
   ]
  },
  {
   "cell_type": "code",
   "execution_count": 69,
   "metadata": {},
   "outputs": [],
   "source": [
    "spc = pd.DataFrame.sparse.from_spmatrix(cv.fit_transform(df['TEXT']))"
   ]
  },
  {
   "cell_type": "code",
   "execution_count": 71,
   "metadata": {},
   "outputs": [],
   "source": [
    "# filter = (spc != 0).any()\n",
    "# spc.loc[:, filter]\n",
    "spc.insert(0,'Hours',df.Hours)"
   ]
  },
  {
   "cell_type": "code",
   "execution_count": 10,
   "metadata": {},
   "outputs": [],
   "source": [
    "nparr = cv.fit_transform(df['TEXT'])"
   ]
  },
  {
   "cell_type": "code",
   "execution_count": 11,
   "metadata": {},
   "outputs": [
    {
     "data": {
      "text/plain": [
       "matrix([[0, 0, 1, ..., 0, 0, 0],\n",
       "        [0, 0, 1, ..., 0, 0, 0],\n",
       "        [0, 0, 1, ..., 0, 0, 0],\n",
       "        ...,\n",
       "        [0, 0, 1, ..., 0, 0, 0],\n",
       "        [0, 0, 1, ..., 0, 0, 0],\n",
       "        [0, 0, 1, ..., 0, 0, 0]], dtype=int64)"
      ]
     },
     "execution_count": 11,
     "metadata": {},
     "output_type": "execute_result"
    }
   ],
   "source": [
    "nparr.todense()"
   ]
  },
  {
   "cell_type": "code",
   "execution_count": 12,
   "metadata": {},
   "outputs": [],
   "source": [
    "from scipy.sparse import hstack\n",
    "import numpy as np\n",
    "spc = hstack((np.array(df['Hours'])[:,None],nparr))"
   ]
  },
  {
   "cell_type": "code",
   "execution_count": 13,
   "metadata": {},
   "outputs": [
    {
     "ename": "TypeError",
     "evalue": "'coo_matrix' object is not subscriptable",
     "output_type": "error",
     "traceback": [
      "\u001b[1;31m---------------------------------------------------------------------------\u001b[0m",
      "\u001b[1;31mTypeError\u001b[0m                                 Traceback (most recent call last)",
      "\u001b[1;32m<ipython-input-13-4c4c68879fbf>\u001b[0m in \u001b[0;36m<module>\u001b[1;34m\u001b[0m\n\u001b[1;32m----> 1\u001b[1;33m \u001b[0mspc\u001b[0m \u001b[1;33m=\u001b[0m \u001b[1;33m[\u001b[0m\u001b[0mrow\u001b[0m \u001b[1;32mfor\u001b[0m \u001b[0mrow\u001b[0m \u001b[1;32min\u001b[0m \u001b[0mspc\u001b[0m\u001b[1;33m]\u001b[0m\u001b[1;33m\u001b[0m\u001b[1;33m\u001b[0m\u001b[0m\n\u001b[0m",
      "\u001b[1;32m<ipython-input-13-4c4c68879fbf>\u001b[0m in \u001b[0;36m<listcomp>\u001b[1;34m(.0)\u001b[0m\n\u001b[1;32m----> 1\u001b[1;33m \u001b[0mspc\u001b[0m \u001b[1;33m=\u001b[0m \u001b[1;33m[\u001b[0m\u001b[0mrow\u001b[0m \u001b[1;32mfor\u001b[0m \u001b[0mrow\u001b[0m \u001b[1;32min\u001b[0m \u001b[0mspc\u001b[0m\u001b[1;33m]\u001b[0m\u001b[1;33m\u001b[0m\u001b[1;33m\u001b[0m\u001b[0m\n\u001b[0m",
      "\u001b[1;32mC:\\Users\\moldwinar\\Miniconda3\\lib\\site-packages\\scipy\\sparse\\base.py\u001b[0m in \u001b[0;36m__iter__\u001b[1;34m(self)\u001b[0m\n\u001b[0;32m    206\u001b[0m     \u001b[1;32mdef\u001b[0m \u001b[0m__iter__\u001b[0m\u001b[1;33m(\u001b[0m\u001b[0mself\u001b[0m\u001b[1;33m)\u001b[0m\u001b[1;33m:\u001b[0m\u001b[1;33m\u001b[0m\u001b[1;33m\u001b[0m\u001b[0m\n\u001b[0;32m    207\u001b[0m         \u001b[1;32mfor\u001b[0m \u001b[0mr\u001b[0m \u001b[1;32min\u001b[0m \u001b[0mxrange\u001b[0m\u001b[1;33m(\u001b[0m\u001b[0mself\u001b[0m\u001b[1;33m.\u001b[0m\u001b[0mshape\u001b[0m\u001b[1;33m[\u001b[0m\u001b[1;36m0\u001b[0m\u001b[1;33m]\u001b[0m\u001b[1;33m)\u001b[0m\u001b[1;33m:\u001b[0m\u001b[1;33m\u001b[0m\u001b[1;33m\u001b[0m\u001b[0m\n\u001b[1;32m--> 208\u001b[1;33m             \u001b[1;32myield\u001b[0m \u001b[0mself\u001b[0m\u001b[1;33m[\u001b[0m\u001b[0mr\u001b[0m\u001b[1;33m,\u001b[0m \u001b[1;33m:\u001b[0m\u001b[1;33m]\u001b[0m\u001b[1;33m\u001b[0m\u001b[1;33m\u001b[0m\u001b[0m\n\u001b[0m\u001b[0;32m    209\u001b[0m \u001b[1;33m\u001b[0m\u001b[0m\n\u001b[0;32m    210\u001b[0m     \u001b[1;32mdef\u001b[0m \u001b[0mgetmaxprint\u001b[0m\u001b[1;33m(\u001b[0m\u001b[0mself\u001b[0m\u001b[1;33m)\u001b[0m\u001b[1;33m:\u001b[0m\u001b[1;33m\u001b[0m\u001b[1;33m\u001b[0m\u001b[0m\n",
      "\u001b[1;31mTypeError\u001b[0m: 'coo_matrix' object is not subscriptable"
     ]
    }
   ],
   "source": [
    "spc = [row for row in spc]"
   ]
  },
  {
   "cell_type": "code",
   "execution_count": 100,
   "metadata": {},
   "outputs": [],
   "source": [
    "import scipy\n",
    "scipy.sparse.save_npz('test_sparse_matrix.npz', spc)\n"
   ]
  },
  {
   "cell_type": "code",
   "execution_count": 101,
   "metadata": {},
   "outputs": [],
   "source": [
    "sparse_matrix = scipy.sparse.load_npz('test_sparse_matrix.npz')"
   ]
  },
  {
   "cell_type": "code",
   "execution_count": 102,
   "metadata": {},
   "outputs": [
    {
     "data": {
      "text/plain": [
       "matrix([[ 1.90138889,  0.        ,  0.        , ...,  0.        ,\n",
       "          0.        ,  0.        ],\n",
       "        [12.50138889,  0.        ,  0.        , ...,  0.        ,\n",
       "          0.        ,  0.        ],\n",
       "        [23.05138889,  0.        ,  0.        , ...,  0.        ,\n",
       "          0.        ,  0.        ],\n",
       "        ...,\n",
       "        [73.31805556,  0.        ,  0.        , ...,  0.        ,\n",
       "          0.        ,  0.        ],\n",
       "        [74.21805556,  0.        ,  0.        , ...,  0.        ,\n",
       "          0.        ,  0.        ],\n",
       "        [82.68472222,  0.        ,  0.        , ...,  0.        ,\n",
       "          0.        ,  0.        ]])"
      ]
     },
     "execution_count": 102,
     "metadata": {},
     "output_type": "execute_result"
    }
   ],
   "source": [
    "sparse_matrix.todense()"
   ]
  },
  {
   "cell_type": "code",
   "execution_count": 1,
   "metadata": {},
   "outputs": [
    {
     "name": "stdout",
     "output_type": "stream",
     "text": [
      "WARNING:tensorflow:The default value of combiner will change from \"mean\" to \"sqrtn\" after 2016/11/01.\n",
      "WARNING:tensorflow:From C:\\Users\\moldwinar\\Miniconda3\\lib\\site-packages\\tensorflow_core\\python\\util\\tf_should_use.py:198: initialize_all_variables (from tensorflow.python.ops.variables) is deprecated and will be removed after 2017-03-02.\n",
      "Instructions for updating:\n",
      "Use `tf.global_variables_initializer` instead.\n",
      "[ 9. 36. 81.]\n"
     ]
    }
   ],
   "source": [
    "###TEST TF SPARSE\n",
    "import tensorflow as tf\n",
    "import numpy as np\n",
    "\n",
    "example = tf.SparseTensor(indices=[[0], [1], [2]], values=[3, 6, 9], dense_shape=[3])\n",
    "\n",
    "vocabulary_size = 10\n",
    "embedding_size = 1\n",
    "var = np.array([0.0, 1.0, 4.0, 9.0, 16.0, 25.0, 36.0, 49.0, 64.0, 81.0])\n",
    "embeddings = tf.Variable(var)\n",
    "\n",
    "embed = tf.nn.embedding_lookup_sparse(embeddings, example, None)\n",
    "\n",
    "with tf.Session() as sess:\n",
    "    sess.run(tf.initialize_all_variables())\n",
    "    print(sess.run(embed)) # prints [  9.  36.  81.]"
   ]
  },
  {
   "cell_type": "code",
   "execution_count": 2,
   "metadata": {},
   "outputs": [
    {
     "name": "stdout",
     "output_type": "stream",
     "text": [
      "SparseTensor(indices=Tensor(\"SparseTensor/indices:0\", shape=(3, 1), dtype=int64), values=Tensor(\"SparseTensor/values:0\", shape=(3,), dtype=int32), dense_shape=Tensor(\"SparseTensor/dense_shape:0\", shape=(1,), dtype=int64))\n"
     ]
    }
   ],
   "source": [
    "print(example)"
   ]
  },
  {
   "cell_type": "code",
   "execution_count": null,
   "metadata": {},
   "outputs": [],
   "source": []
  }
 ],
 "metadata": {
  "kernelspec": {
   "display_name": "Python 3",
   "language": "python",
   "name": "python3"
  },
  "language_info": {
   "codemirror_mode": {
    "name": "ipython",
    "version": 3
   },
   "file_extension": ".py",
   "mimetype": "text/x-python",
   "name": "python",
   "nbconvert_exporter": "python",
   "pygments_lexer": "ipython3",
   "version": "3.7.7"
  }
 },
 "nbformat": 4,
 "nbformat_minor": 4
}
