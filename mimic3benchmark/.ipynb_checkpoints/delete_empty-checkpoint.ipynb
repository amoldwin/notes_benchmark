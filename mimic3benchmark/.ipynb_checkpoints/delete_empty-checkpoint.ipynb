{
 "cells": [
  {
   "cell_type": "code",
   "execution_count": 1,
   "metadata": {},
   "outputs": [],
   "source": [
    "import os\n",
    "import pandas as pd\n"
   ]
  },
  {
   "cell_type": "code",
   "execution_count": 2,
   "metadata": {},
   "outputs": [],
   "source": [
    "path = '../data/ncbi_bert_in-hospital-mortality_embedded_1024/train/'\n",
    "lfpath = path+'listfile.csv'\n",
    "df = pd.read_csv(lfpath)"
   ]
  },
  {
   "cell_type": "code",
   "execution_count": 13,
   "metadata": {},
   "outputs": [
    {
     "ename": "SyntaxError",
     "evalue": "invalid syntax (<ipython-input-13-630576073fb8>, line 9)",
     "output_type": "error",
     "traceback": [
      "\u001b[1;36m  File \u001b[1;32m\"<ipython-input-13-630576073fb8>\"\u001b[1;36m, line \u001b[1;32m9\u001b[0m\n\u001b[1;33m    if ln==''\u001b[0m\n\u001b[1;37m             ^\u001b[0m\n\u001b[1;31mSyntaxError\u001b[0m\u001b[1;31m:\u001b[0m invalid syntax\n"
     ]
    }
   ],
   "source": [
    "def notempty(fn):\n",
    "    with open(path+fn, 'r') as tsfile:\n",
    "        ln = tsfile.readline()\n",
    "        ret = False\n",
    "        try:\n",
    "            ln=tsfile.readline()\n",
    "            print(ln)\n",
    "            ln=tsfile.readline()\n",
    "            if ln=='':\n",
    "                assert False, ln\n",
    "                ret = False\n",
    "            else:\n",
    "                ret=True\n",
    "        except:\n",
    "            assert False, fn\n",
    "            return False\n",
    "        return ret\n",
    "            \n",
    "#     ts = pd.read_csv(path+fn)\n",
    "    if len(ts)==0:\n",
    "        return False\n",
    "    else: \n",
    "        return True\n",
    "notempty('76861_episode1_timeseries.csv')  \n",
    "# empty_filter = df['stay'].apply(lambda x: notempty(x))"
   ]
  },
  {
   "cell_type": "code",
   "execution_count": 12,
   "metadata": {},
   "outputs": [
    {
     "ename": "NameError",
     "evalue": "name 'empty_filter' is not defined",
     "output_type": "error",
     "traceback": [
      "\u001b[1;31m---------------------------------------------------------------------------\u001b[0m",
      "\u001b[1;31mNameError\u001b[0m                                 Traceback (most recent call last)",
      "\u001b[1;32m<ipython-input-12-d5cb24ba2c65>\u001b[0m in \u001b[0;36m<module>\u001b[1;34m\u001b[0m\n\u001b[1;32m----> 1\u001b[1;33m \u001b[0mempty_filter\u001b[0m\u001b[1;33m\u001b[0m\u001b[1;33m\u001b[0m\u001b[0m\n\u001b[0m",
      "\u001b[1;31mNameError\u001b[0m: name 'empty_filter' is not defined"
     ]
    }
   ],
   "source": [
    "empty_filter"
   ]
  },
  {
   "cell_type": "code",
   "execution_count": 12,
   "metadata": {},
   "outputs": [],
   "source": [
    "df = df[empty_filter]"
   ]
  },
  {
   "cell_type": "code",
   "execution_count": 13,
   "metadata": {},
   "outputs": [],
   "source": [
    "df.to_csv(path+'listfile.csv', index=False)"
   ]
  },
  {
   "cell_type": "code",
   "execution_count": null,
   "metadata": {},
   "outputs": [],
   "source": []
  }
 ],
 "metadata": {
  "kernelspec": {
   "display_name": "Python 3",
   "language": "python",
   "name": "python3"
  },
  "language_info": {
   "codemirror_mode": {
    "name": "ipython",
    "version": 3
   },
   "file_extension": ".py",
   "mimetype": "text/x-python",
   "name": "python",
   "nbconvert_exporter": "python",
   "pygments_lexer": "ipython3",
   "version": "3.7.4"
  }
 },
 "nbformat": 4,
 "nbformat_minor": 4
}
