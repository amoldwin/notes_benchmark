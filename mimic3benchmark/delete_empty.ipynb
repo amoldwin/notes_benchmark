{
 "cells": [
  {
   "cell_type": "code",
   "execution_count": 1,
   "metadata": {},
   "outputs": [],
   "source": [
    "import os\n",
    "import pandas as pd\n"
   ]
  },
  {
   "cell_type": "code",
   "execution_count": 23,
   "metadata": {},
   "outputs": [],
   "source": [
    "path = '../data/ncbi_bert_in-hospital-mortality_embedded_1024/test/'\n",
    "lfpath = path+'listfile.csv'\n",
    "df = pd.read_csv(lfpath)"
   ]
  },
  {
   "cell_type": "code",
   "execution_count": 24,
   "metadata": {},
   "outputs": [],
   "source": [
    "def notempty(fn):\n",
    "    with open(path+fn, 'r') as tsfile:\n",
    "        ln = tsfile.readline()\n",
    "        ret = False\n",
    "        try:\n",
    "            ln=tsfile.readline()\n",
    "            if ln=='':\n",
    "                ret = False\n",
    "            else:\n",
    "                ret=True\n",
    "        except:\n",
    "            return False\n",
    "        return ret\n",
    "            \n",
    "#     ts = pd.read_csv(path+fn)\n",
    "    if len(ts)==0:\n",
    "        return False\n",
    "    else: \n",
    "        return True\n",
    "# notempty('76861_episode1_timeseries.csv')  \n",
    "empty_filter = df['stay'].apply(lambda x: notempty(x))"
   ]
  },
  {
   "cell_type": "code",
   "execution_count": 25,
   "metadata": {},
   "outputs": [
    {
     "data": {
      "text/plain": [
       "0        True\n",
       "1        True\n",
       "2        True\n",
       "3        True\n",
       "4        True\n",
       "        ...  \n",
       "3239     True\n",
       "3240     True\n",
       "3241     True\n",
       "3242     True\n",
       "3243    False\n",
       "Name: stay, Length: 3244, dtype: bool"
      ]
     },
     "execution_count": 25,
     "metadata": {},
     "output_type": "execute_result"
    }
   ],
   "source": [
    "empty_filter"
   ]
  },
  {
   "cell_type": "code",
   "execution_count": 26,
   "metadata": {},
   "outputs": [],
   "source": [
    "df = df[empty_filter]"
   ]
  },
  {
   "cell_type": "code",
   "execution_count": 27,
   "metadata": {},
   "outputs": [],
   "source": [
    "df.to_csv(path+'listfile.csv', index=False)"
   ]
  },
  {
   "cell_type": "code",
   "execution_count": null,
   "metadata": {},
   "outputs": [],
   "source": []
  }
 ],
 "metadata": {
  "kernelspec": {
   "display_name": "Python 3",
   "language": "python",
   "name": "python3"
  },
  "language_info": {
   "codemirror_mode": {
    "name": "ipython",
    "version": 3
   },
   "file_extension": ".py",
   "mimetype": "text/x-python",
   "name": "python",
   "nbconvert_exporter": "python",
   "pygments_lexer": "ipython3",
   "version": "3.7.4"
  }
 },
 "nbformat": 4,
 "nbformat_minor": 4
}
